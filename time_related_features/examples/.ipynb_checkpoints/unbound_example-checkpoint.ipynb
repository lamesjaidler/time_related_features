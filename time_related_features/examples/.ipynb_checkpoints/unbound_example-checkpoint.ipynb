{
 "cells": [
  {
   "cell_type": "markdown",
   "id": "96a193c1",
   "metadata": {},
   "source": [
    "# Unbound example"
   ]
  },
  {
   "cell_type": "markdown",
   "id": "26b20236",
   "metadata": {},
   "source": [
    "This notebooks shows how the `UnboundTransformer` can be used to calculate an unbound (i.e. no time constraints) aggregation (see the `exponential_window` and `tie_deltas` modules for the aggregations available) for a given container key."
   ]
  },
  {
   "cell_type": "markdown",
   "id": "1a968249",
   "metadata": {},
   "source": [
    "## Import packages"
   ]
  },
  {
   "cell_type": "code",
   "execution_count": 1,
   "id": "e9950bbc",
   "metadata": {},
   "outputs": [],
   "source": [
    "from time_related_features.exponential_window import ExpWeightedAverage\n",
    "from time_related_features.time_deltas import TimeSinceFirstSeen\n",
    "from time_related_features.transformers import UnboundTransformer\n",
    "\n",
    "import numpy as np\n",
    "import pandas as pd\n",
    "import random"
   ]
  },
  {
   "cell_type": "markdown",
   "id": "6b101b19",
   "metadata": {},
   "source": [
    "## Read in data"
   ]
  },
  {
   "cell_type": "code",
   "execution_count": 2,
   "id": "6d8c4e3b",
   "metadata": {},
   "outputs": [],
   "source": [
    "X = pd.read_pickle('X.pkl')"
   ]
  },
  {
   "cell_type": "code",
   "execution_count": 3,
   "id": "742b0b53",
   "metadata": {},
   "outputs": [
    {
     "data": {
      "text/html": [
       "<div>\n",
       "<style scoped>\n",
       "    .dataframe tbody tr th:only-of-type {\n",
       "        vertical-align: middle;\n",
       "    }\n",
       "\n",
       "    .dataframe tbody tr th {\n",
       "        vertical-align: top;\n",
       "    }\n",
       "\n",
       "    .dataframe thead th {\n",
       "        text-align: right;\n",
       "    }\n",
       "</style>\n",
       "<table border=\"1\" class=\"dataframe\">\n",
       "  <thead>\n",
       "    <tr style=\"text-align: right;\">\n",
       "      <th></th>\n",
       "      <th>timestamp</th>\n",
       "      <th>email</th>\n",
       "      <th>ip</th>\n",
       "      <th>amount</th>\n",
       "      <th>chargeback</th>\n",
       "    </tr>\n",
       "    <tr>\n",
       "      <th>txn_id</th>\n",
       "      <th></th>\n",
       "      <th></th>\n",
       "      <th></th>\n",
       "      <th></th>\n",
       "      <th></th>\n",
       "    </tr>\n",
       "  </thead>\n",
       "  <tbody>\n",
       "    <tr>\n",
       "      <th>0</th>\n",
       "      <td>2022-01-10 16:58:07</td>\n",
       "      <td>email1@gmail.com</td>\n",
       "      <td>ip2</td>\n",
       "      <td>37.840337</td>\n",
       "      <td>False</td>\n",
       "    </tr>\n",
       "    <tr>\n",
       "      <th>1</th>\n",
       "      <td>2022-01-10 18:24:04</td>\n",
       "      <td>email2@gmail.com</td>\n",
       "      <td>ip2</td>\n",
       "      <td>60.093369</td>\n",
       "      <td>False</td>\n",
       "    </tr>\n",
       "    <tr>\n",
       "      <th>2</th>\n",
       "      <td>2022-01-10 19:44:34</td>\n",
       "      <td>email1@gmail.com</td>\n",
       "      <td>ip2</td>\n",
       "      <td>46.916985</td>\n",
       "      <td>False</td>\n",
       "    </tr>\n",
       "    <tr>\n",
       "      <th>3</th>\n",
       "      <td>2022-01-10 21:04:34</td>\n",
       "      <td>email2@gmail.com</td>\n",
       "      <td>ip2</td>\n",
       "      <td>72.531623</td>\n",
       "      <td>False</td>\n",
       "    </tr>\n",
       "    <tr>\n",
       "      <th>4</th>\n",
       "      <td>2022-01-10 22:48:31</td>\n",
       "      <td>email2@gmail.com</td>\n",
       "      <td>ip1</td>\n",
       "      <td>9.765965</td>\n",
       "      <td>False</td>\n",
       "    </tr>\n",
       "  </tbody>\n",
       "</table>\n",
       "</div>"
      ],
      "text/plain": [
       "                 timestamp             email   ip     amount  chargeback\n",
       "txn_id                                                                  \n",
       "0      2022-01-10 16:58:07  email1@gmail.com  ip2  37.840337       False\n",
       "1      2022-01-10 18:24:04  email2@gmail.com  ip2  60.093369       False\n",
       "2      2022-01-10 19:44:34  email1@gmail.com  ip2  46.916985       False\n",
       "3      2022-01-10 21:04:34  email2@gmail.com  ip2  72.531623       False\n",
       "4      2022-01-10 22:48:31  email2@gmail.com  ip1   9.765965       False"
      ]
     },
     "execution_count": 3,
     "metadata": {},
     "output_type": "execute_result"
    }
   ],
   "source": [
    "X.head()"
   ]
  },
  {
   "cell_type": "markdown",
   "id": "6c9cada7",
   "metadata": {},
   "source": [
    "## Exponential window"
   ]
  },
  {
   "cell_type": "markdown",
   "id": "ca92ca8d",
   "metadata": {},
   "source": [
    "### Set up aggregation class\n",
    "\n",
    "This class will calculate the aggregation specified for a unique container key value (e.g. for an unique email address):"
   ]
  },
  {
   "cell_type": "code",
   "execution_count": 4,
   "id": "5a65a0a0",
   "metadata": {},
   "outputs": [],
   "source": [
    "agg_class = ExpWeightedAverage(\n",
    "    halflife='2d', \n",
    "    value_col='amount'\n",
    ")"
   ]
  },
  {
   "cell_type": "markdown",
   "id": "ce0bc7dd",
   "metadata": {},
   "source": [
    "### Set up transformer class\n",
    "\n",
    "This class will calculate the aggregation specified (see `agg_class` above) for each unique container key value (e.g. for each unique email address):"
   ]
  },
  {
   "cell_type": "code",
   "execution_count": 5,
   "id": "881cab6a",
   "metadata": {},
   "outputs": [],
   "source": [
    "t = UnboundTransformer(\n",
    "    agg_class=agg_class,    \n",
    "    container_key='email',\n",
    "    timestamp_col='timestamp'\n",
    ")"
   ]
  },
  {
   "cell_type": "markdown",
   "id": "66e28ec5",
   "metadata": {},
   "source": [
    "### Calculate the aggregation"
   ]
  },
  {
   "cell_type": "markdown",
   "id": "db7cbe40",
   "metadata": {},
   "source": [
    "We can now calculate the aggregation using the `transform` method:"
   ]
  },
  {
   "cell_type": "code",
   "execution_count": 6,
   "id": "20d9cb74",
   "metadata": {},
   "outputs": [],
   "source": [
    "X = t.transform(X=X)"
   ]
  },
  {
   "cell_type": "code",
   "execution_count": 7,
   "id": "ffeba609",
   "metadata": {},
   "outputs": [
    {
     "data": {
      "text/html": [
       "<div>\n",
       "<style scoped>\n",
       "    .dataframe tbody tr th:only-of-type {\n",
       "        vertical-align: middle;\n",
       "    }\n",
       "\n",
       "    .dataframe tbody tr th {\n",
       "        vertical-align: top;\n",
       "    }\n",
       "\n",
       "    .dataframe thead th {\n",
       "        text-align: right;\n",
       "    }\n",
       "</style>\n",
       "<table border=\"1\" class=\"dataframe\">\n",
       "  <thead>\n",
       "    <tr style=\"text-align: right;\">\n",
       "      <th></th>\n",
       "      <th>timestamp</th>\n",
       "      <th>email</th>\n",
       "      <th>ip</th>\n",
       "      <th>amount</th>\n",
       "      <th>chargeback</th>\n",
       "      <th>email.ew_avg_amount_per_email</th>\n",
       "    </tr>\n",
       "    <tr>\n",
       "      <th>txn_id</th>\n",
       "      <th></th>\n",
       "      <th></th>\n",
       "      <th></th>\n",
       "      <th></th>\n",
       "      <th></th>\n",
       "      <th></th>\n",
       "    </tr>\n",
       "  </thead>\n",
       "  <tbody>\n",
       "    <tr>\n",
       "      <th>0</th>\n",
       "      <td>2022-01-10 16:58:07</td>\n",
       "      <td>email1@gmail.com</td>\n",
       "      <td>ip2</td>\n",
       "      <td>37.840337</td>\n",
       "      <td>False</td>\n",
       "      <td>37.840337</td>\n",
       "    </tr>\n",
       "    <tr>\n",
       "      <th>1</th>\n",
       "      <td>2022-01-10 18:24:04</td>\n",
       "      <td>email2@gmail.com</td>\n",
       "      <td>ip2</td>\n",
       "      <td>60.093369</td>\n",
       "      <td>False</td>\n",
       "      <td>60.093369</td>\n",
       "    </tr>\n",
       "    <tr>\n",
       "      <th>2</th>\n",
       "      <td>2022-01-10 19:44:34</td>\n",
       "      <td>email1@gmail.com</td>\n",
       "      <td>ip2</td>\n",
       "      <td>46.916985</td>\n",
       "      <td>False</td>\n",
       "      <td>42.469553</td>\n",
       "    </tr>\n",
       "    <tr>\n",
       "      <th>3</th>\n",
       "      <td>2022-01-10 21:04:34</td>\n",
       "      <td>email2@gmail.com</td>\n",
       "      <td>ip2</td>\n",
       "      <td>72.531623</td>\n",
       "      <td>False</td>\n",
       "      <td>66.432599</td>\n",
       "    </tr>\n",
       "    <tr>\n",
       "      <th>4</th>\n",
       "      <td>2022-01-10 22:48:31</td>\n",
       "      <td>email2@gmail.com</td>\n",
       "      <td>ip1</td>\n",
       "      <td>9.765965</td>\n",
       "      <td>False</td>\n",
       "      <td>46.983779</td>\n",
       "    </tr>\n",
       "  </tbody>\n",
       "</table>\n",
       "</div>"
      ],
      "text/plain": [
       "                 timestamp  ... email.ew_avg_amount_per_email\n",
       "txn_id                      ...                              \n",
       "0      2022-01-10 16:58:07  ...                     37.840337\n",
       "1      2022-01-10 18:24:04  ...                     60.093369\n",
       "2      2022-01-10 19:44:34  ...                     42.469553\n",
       "3      2022-01-10 21:04:34  ...                     66.432599\n",
       "4      2022-01-10 22:48:31  ...                     46.983779\n",
       "\n",
       "[5 rows x 6 columns]"
      ]
     },
     "execution_count": 7,
     "metadata": {},
     "output_type": "execute_result"
    }
   ],
   "source": [
    "X.head()"
   ]
  },
  {
   "cell_type": "markdown",
   "id": "1883b678",
   "metadata": {},
   "source": [
    "## Time deltas"
   ]
  },
  {
   "cell_type": "markdown",
   "id": "3f9eb4dc",
   "metadata": {},
   "source": [
    "### Set up aggregation class\n",
    "\n",
    "This class will calculate the aggregation specified for a unique container key value (e.g. for an unique email address):"
   ]
  },
  {
   "cell_type": "code",
   "execution_count": 8,
   "id": "28823c15",
   "metadata": {},
   "outputs": [],
   "source": [
    "agg_class = TimeSinceFirstSeen()"
   ]
  },
  {
   "cell_type": "markdown",
   "id": "75c99b8a",
   "metadata": {},
   "source": [
    "### Set up transformer class\n",
    "\n",
    "This class will calculate the aggregation specified (see `agg_class` above) for each unique container key value (e.g. for each unique email address):"
   ]
  },
  {
   "cell_type": "code",
   "execution_count": 9,
   "id": "86c9380e",
   "metadata": {},
   "outputs": [],
   "source": [
    "t = UnboundTransformer(\n",
    "    agg_class=agg_class,    \n",
    "    container_key='email',\n",
    "    timestamp_col='timestamp'\n",
    ")"
   ]
  },
  {
   "cell_type": "markdown",
   "id": "6221297a",
   "metadata": {},
   "source": [
    "### Calculate the aggregation"
   ]
  },
  {
   "cell_type": "markdown",
   "id": "359465b1",
   "metadata": {},
   "source": [
    "We can now calculate the aggregation using the `transform` method:"
   ]
  },
  {
   "cell_type": "code",
   "execution_count": 10,
   "id": "f83537a8",
   "metadata": {},
   "outputs": [],
   "source": [
    "X = t.transform(X=X)"
   ]
  },
  {
   "cell_type": "code",
   "execution_count": 11,
   "id": "9471343a",
   "metadata": {},
   "outputs": [
    {
     "data": {
      "text/html": [
       "<div>\n",
       "<style scoped>\n",
       "    .dataframe tbody tr th:only-of-type {\n",
       "        vertical-align: middle;\n",
       "    }\n",
       "\n",
       "    .dataframe tbody tr th {\n",
       "        vertical-align: top;\n",
       "    }\n",
       "\n",
       "    .dataframe thead th {\n",
       "        text-align: right;\n",
       "    }\n",
       "</style>\n",
       "<table border=\"1\" class=\"dataframe\">\n",
       "  <thead>\n",
       "    <tr style=\"text-align: right;\">\n",
       "      <th></th>\n",
       "      <th>timestamp</th>\n",
       "      <th>email</th>\n",
       "      <th>ip</th>\n",
       "      <th>amount</th>\n",
       "      <th>chargeback</th>\n",
       "      <th>email.ew_avg_amount_per_email</th>\n",
       "      <th>email.time_since_txn_first_seen_by_email</th>\n",
       "    </tr>\n",
       "    <tr>\n",
       "      <th>txn_id</th>\n",
       "      <th></th>\n",
       "      <th></th>\n",
       "      <th></th>\n",
       "      <th></th>\n",
       "      <th></th>\n",
       "      <th></th>\n",
       "      <th></th>\n",
       "    </tr>\n",
       "  </thead>\n",
       "  <tbody>\n",
       "    <tr>\n",
       "      <th>0</th>\n",
       "      <td>2022-01-10 16:58:07</td>\n",
       "      <td>email1@gmail.com</td>\n",
       "      <td>ip2</td>\n",
       "      <td>37.840337</td>\n",
       "      <td>False</td>\n",
       "      <td>37.840337</td>\n",
       "      <td>0 days 00:00:00</td>\n",
       "    </tr>\n",
       "    <tr>\n",
       "      <th>1</th>\n",
       "      <td>2022-01-10 18:24:04</td>\n",
       "      <td>email2@gmail.com</td>\n",
       "      <td>ip2</td>\n",
       "      <td>60.093369</td>\n",
       "      <td>False</td>\n",
       "      <td>60.093369</td>\n",
       "      <td>0 days 00:00:00</td>\n",
       "    </tr>\n",
       "    <tr>\n",
       "      <th>2</th>\n",
       "      <td>2022-01-10 19:44:34</td>\n",
       "      <td>email1@gmail.com</td>\n",
       "      <td>ip2</td>\n",
       "      <td>46.916985</td>\n",
       "      <td>False</td>\n",
       "      <td>42.469553</td>\n",
       "      <td>0 days 02:46:27</td>\n",
       "    </tr>\n",
       "    <tr>\n",
       "      <th>3</th>\n",
       "      <td>2022-01-10 21:04:34</td>\n",
       "      <td>email2@gmail.com</td>\n",
       "      <td>ip2</td>\n",
       "      <td>72.531623</td>\n",
       "      <td>False</td>\n",
       "      <td>66.432599</td>\n",
       "      <td>0 days 02:40:30</td>\n",
       "    </tr>\n",
       "    <tr>\n",
       "      <th>4</th>\n",
       "      <td>2022-01-10 22:48:31</td>\n",
       "      <td>email2@gmail.com</td>\n",
       "      <td>ip1</td>\n",
       "      <td>9.765965</td>\n",
       "      <td>False</td>\n",
       "      <td>46.983779</td>\n",
       "      <td>0 days 04:24:27</td>\n",
       "    </tr>\n",
       "  </tbody>\n",
       "</table>\n",
       "</div>"
      ],
      "text/plain": [
       "                 timestamp  ... email.time_since_txn_first_seen_by_email\n",
       "txn_id                      ...                                         \n",
       "0      2022-01-10 16:58:07  ...                          0 days 00:00:00\n",
       "1      2022-01-10 18:24:04  ...                          0 days 00:00:00\n",
       "2      2022-01-10 19:44:34  ...                          0 days 02:46:27\n",
       "3      2022-01-10 21:04:34  ...                          0 days 02:40:30\n",
       "4      2022-01-10 22:48:31  ...                          0 days 04:24:27\n",
       "\n",
       "[5 rows x 7 columns]"
      ]
     },
     "execution_count": 11,
     "metadata": {},
     "output_type": "execute_result"
    }
   ],
   "source": [
    "X.head()"
   ]
  }
 ],
 "metadata": {
  "interpreter": {
   "hash": "a6a9f4043488ef9e53ad9534f22325a4d01a3da28a0b173aeeefb1e0f1cf25e7"
  },
  "kernelspec": {
   "display_name": "time_related_features",
   "language": "python",
   "name": "time_related_features"
  },
  "language_info": {
   "codemirror_mode": {
    "name": "ipython",
    "version": 3
   },
   "file_extension": ".py",
   "mimetype": "text/x-python",
   "name": "python",
   "nbconvert_exporter": "python",
   "pygments_lexer": "ipython3",
   "version": "3.8.9"
  }
 },
 "nbformat": 4,
 "nbformat_minor": 5
}
