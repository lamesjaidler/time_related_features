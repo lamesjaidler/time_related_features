{
 "cells": [
  {
   "cell_type": "markdown",
   "id": "96a193c1",
   "metadata": {},
   "source": [
    "# Period bound example"
   ]
  },
  {
   "cell_type": "markdown",
   "id": "dc080fdd",
   "metadata": {},
   "source": [
    "This notebooks shows how the `PeriodBoundTransformer` can be used to calculate a period bound aggregation (see the `rolling_window` module for the aggregations available) for a given container key and set of periods."
   ]
  },
  {
   "cell_type": "markdown",
   "id": "1a968249",
   "metadata": {},
   "source": [
    "## Import packages"
   ]
  },
  {
   "cell_type": "code",
   "execution_count": 1,
   "id": "e9950bbc",
   "metadata": {},
   "outputs": [],
   "source": [
    "from time_related_features.rolling_window import AverageChargebacks\n",
    "from time_related_features.transformers import PeriodBoundTransformer\n",
    "\n",
    "import numpy as np\n",
    "import pandas as pd\n",
    "import random"
   ]
  },
  {
   "cell_type": "markdown",
   "id": "6b101b19",
   "metadata": {},
   "source": [
    "## Read in data"
   ]
  },
  {
   "cell_type": "code",
   "execution_count": 4,
   "id": "6d8c4e3b",
   "metadata": {},
   "outputs": [],
   "source": [
    "X = pd.read_pickle('X.pkl')"
   ]
  },
  {
   "cell_type": "code",
   "execution_count": 5,
   "id": "742b0b53",
   "metadata": {},
   "outputs": [
    {
     "data": {
      "text/html": [
       "<div>\n",
       "<style scoped>\n",
       "    .dataframe tbody tr th:only-of-type {\n",
       "        vertical-align: middle;\n",
       "    }\n",
       "\n",
       "    .dataframe tbody tr th {\n",
       "        vertical-align: top;\n",
       "    }\n",
       "\n",
       "    .dataframe thead th {\n",
       "        text-align: right;\n",
       "    }\n",
       "</style>\n",
       "<table border=\"1\" class=\"dataframe\">\n",
       "  <thead>\n",
       "    <tr style=\"text-align: right;\">\n",
       "      <th></th>\n",
       "      <th>timestamp</th>\n",
       "      <th>email</th>\n",
       "      <th>ip</th>\n",
       "      <th>amount</th>\n",
       "      <th>chargeback</th>\n",
       "    </tr>\n",
       "    <tr>\n",
       "      <th>txn_id</th>\n",
       "      <th></th>\n",
       "      <th></th>\n",
       "      <th></th>\n",
       "      <th></th>\n",
       "      <th></th>\n",
       "    </tr>\n",
       "  </thead>\n",
       "  <tbody>\n",
       "    <tr>\n",
       "      <th>0</th>\n",
       "      <td>2022-01-10 16:58:07</td>\n",
       "      <td>email1@gmail.com</td>\n",
       "      <td>ip2</td>\n",
       "      <td>37.840337</td>\n",
       "      <td>False</td>\n",
       "    </tr>\n",
       "    <tr>\n",
       "      <th>1</th>\n",
       "      <td>2022-01-10 18:24:04</td>\n",
       "      <td>email2@gmail.com</td>\n",
       "      <td>ip2</td>\n",
       "      <td>60.093369</td>\n",
       "      <td>False</td>\n",
       "    </tr>\n",
       "    <tr>\n",
       "      <th>2</th>\n",
       "      <td>2022-01-10 19:44:34</td>\n",
       "      <td>email1@gmail.com</td>\n",
       "      <td>ip2</td>\n",
       "      <td>46.916985</td>\n",
       "      <td>False</td>\n",
       "    </tr>\n",
       "    <tr>\n",
       "      <th>3</th>\n",
       "      <td>2022-01-10 21:04:34</td>\n",
       "      <td>email2@gmail.com</td>\n",
       "      <td>ip2</td>\n",
       "      <td>72.531623</td>\n",
       "      <td>False</td>\n",
       "    </tr>\n",
       "    <tr>\n",
       "      <th>4</th>\n",
       "      <td>2022-01-10 22:48:31</td>\n",
       "      <td>email2@gmail.com</td>\n",
       "      <td>ip1</td>\n",
       "      <td>9.765965</td>\n",
       "      <td>False</td>\n",
       "    </tr>\n",
       "  </tbody>\n",
       "</table>\n",
       "</div>"
      ],
      "text/plain": [
       "                 timestamp             email   ip     amount  chargeback\n",
       "txn_id                                                                  \n",
       "0      2022-01-10 16:58:07  email1@gmail.com  ip2  37.840337       False\n",
       "1      2022-01-10 18:24:04  email2@gmail.com  ip2  60.093369       False\n",
       "2      2022-01-10 19:44:34  email1@gmail.com  ip2  46.916985       False\n",
       "3      2022-01-10 21:04:34  email2@gmail.com  ip2  72.531623       False\n",
       "4      2022-01-10 22:48:31  email2@gmail.com  ip1   9.765965       False"
      ]
     },
     "execution_count": 5,
     "metadata": {},
     "output_type": "execute_result"
    }
   ],
   "source": [
    "X.head()"
   ]
  },
  {
   "cell_type": "markdown",
   "id": "ca92ca8d",
   "metadata": {},
   "source": [
    "## Set up aggregation class\n",
    "\n",
    "This class will calculate the aggregation specified for a unique container key value (e.g. for an unique email address) and period. See the `rolling_window` module for the aggregations available:"
   ]
  },
  {
   "cell_type": "code",
   "execution_count": 6,
   "id": "5a65a0a0",
   "metadata": {},
   "outputs": [],
   "source": [
    "agg_class = AverageChargebacks(cb_col='chargeback')"
   ]
  },
  {
   "cell_type": "markdown",
   "id": "ce0bc7dd",
   "metadata": {},
   "source": [
    "## Set up transformer class\n",
    "\n",
    "This class will calculate the aggregation specified (see `agg_class` above) for each unique container key value (e.g. for each unique email address) and each period:"
   ]
  },
  {
   "cell_type": "code",
   "execution_count": 7,
   "id": "881cab6a",
   "metadata": {},
   "outputs": [],
   "source": [
    "t = PeriodBoundTransformer(\n",
    "    agg_class=agg_class,   \n",
    "    period_type='day',\n",
    "    periods=[1, 7, 30],\n",
    "    container_key='email',\n",
    "    timestamp_col='timestamp'\n",
    ")"
   ]
  },
  {
   "cell_type": "markdown",
   "id": "66e28ec5",
   "metadata": {},
   "source": [
    "## Calculate the aggregation"
   ]
  },
  {
   "cell_type": "markdown",
   "id": "db7cbe40",
   "metadata": {},
   "source": [
    "We can now calculate the aggregation using the `transform` method:"
   ]
  },
  {
   "cell_type": "code",
   "execution_count": 9,
   "id": "20d9cb74",
   "metadata": {},
   "outputs": [],
   "source": [
    "X = t.transform(X=X)"
   ]
  },
  {
   "cell_type": "code",
   "execution_count": 10,
   "id": "38013bb4",
   "metadata": {},
   "outputs": [
    {
     "data": {
      "text/html": [
       "<div>\n",
       "<style scoped>\n",
       "    .dataframe tbody tr th:only-of-type {\n",
       "        vertical-align: middle;\n",
       "    }\n",
       "\n",
       "    .dataframe tbody tr th {\n",
       "        vertical-align: top;\n",
       "    }\n",
       "\n",
       "    .dataframe thead th {\n",
       "        text-align: right;\n",
       "    }\n",
       "</style>\n",
       "<table border=\"1\" class=\"dataframe\">\n",
       "  <thead>\n",
       "    <tr style=\"text-align: right;\">\n",
       "      <th></th>\n",
       "      <th>timestamp</th>\n",
       "      <th>email</th>\n",
       "      <th>ip</th>\n",
       "      <th>amount</th>\n",
       "      <th>chargeback</th>\n",
       "      <th>email.avg_chargeback_txn_per_email_1day</th>\n",
       "      <th>email.avg_chargeback_txn_per_email_7day</th>\n",
       "      <th>email.avg_chargeback_txn_per_email_30day</th>\n",
       "    </tr>\n",
       "    <tr>\n",
       "      <th>txn_id</th>\n",
       "      <th></th>\n",
       "      <th></th>\n",
       "      <th></th>\n",
       "      <th></th>\n",
       "      <th></th>\n",
       "      <th></th>\n",
       "      <th></th>\n",
       "      <th></th>\n",
       "    </tr>\n",
       "  </thead>\n",
       "  <tbody>\n",
       "    <tr>\n",
       "      <th>0</th>\n",
       "      <td>2022-01-10 16:58:07</td>\n",
       "      <td>email1@gmail.com</td>\n",
       "      <td>ip2</td>\n",
       "      <td>37.840337</td>\n",
       "      <td>False</td>\n",
       "      <td>0.0</td>\n",
       "      <td>0.0</td>\n",
       "      <td>0.0</td>\n",
       "    </tr>\n",
       "    <tr>\n",
       "      <th>1</th>\n",
       "      <td>2022-01-10 18:24:04</td>\n",
       "      <td>email2@gmail.com</td>\n",
       "      <td>ip2</td>\n",
       "      <td>60.093369</td>\n",
       "      <td>False</td>\n",
       "      <td>0.0</td>\n",
       "      <td>0.0</td>\n",
       "      <td>0.0</td>\n",
       "    </tr>\n",
       "    <tr>\n",
       "      <th>2</th>\n",
       "      <td>2022-01-10 19:44:34</td>\n",
       "      <td>email1@gmail.com</td>\n",
       "      <td>ip2</td>\n",
       "      <td>46.916985</td>\n",
       "      <td>False</td>\n",
       "      <td>0.0</td>\n",
       "      <td>0.0</td>\n",
       "      <td>0.0</td>\n",
       "    </tr>\n",
       "    <tr>\n",
       "      <th>3</th>\n",
       "      <td>2022-01-10 21:04:34</td>\n",
       "      <td>email2@gmail.com</td>\n",
       "      <td>ip2</td>\n",
       "      <td>72.531623</td>\n",
       "      <td>False</td>\n",
       "      <td>0.0</td>\n",
       "      <td>0.0</td>\n",
       "      <td>0.0</td>\n",
       "    </tr>\n",
       "    <tr>\n",
       "      <th>4</th>\n",
       "      <td>2022-01-10 22:48:31</td>\n",
       "      <td>email2@gmail.com</td>\n",
       "      <td>ip1</td>\n",
       "      <td>9.765965</td>\n",
       "      <td>False</td>\n",
       "      <td>0.0</td>\n",
       "      <td>0.0</td>\n",
       "      <td>0.0</td>\n",
       "    </tr>\n",
       "  </tbody>\n",
       "</table>\n",
       "</div>"
      ],
      "text/plain": [
       "                 timestamp             email   ip     amount  chargeback  \\\n",
       "txn_id                                                                     \n",
       "0      2022-01-10 16:58:07  email1@gmail.com  ip2  37.840337       False   \n",
       "1      2022-01-10 18:24:04  email2@gmail.com  ip2  60.093369       False   \n",
       "2      2022-01-10 19:44:34  email1@gmail.com  ip2  46.916985       False   \n",
       "3      2022-01-10 21:04:34  email2@gmail.com  ip2  72.531623       False   \n",
       "4      2022-01-10 22:48:31  email2@gmail.com  ip1   9.765965       False   \n",
       "\n",
       "        email.avg_chargeback_txn_per_email_1day  \\\n",
       "txn_id                                            \n",
       "0                                           0.0   \n",
       "1                                           0.0   \n",
       "2                                           0.0   \n",
       "3                                           0.0   \n",
       "4                                           0.0   \n",
       "\n",
       "        email.avg_chargeback_txn_per_email_7day  \\\n",
       "txn_id                                            \n",
       "0                                           0.0   \n",
       "1                                           0.0   \n",
       "2                                           0.0   \n",
       "3                                           0.0   \n",
       "4                                           0.0   \n",
       "\n",
       "        email.avg_chargeback_txn_per_email_30day  \n",
       "txn_id                                            \n",
       "0                                            0.0  \n",
       "1                                            0.0  \n",
       "2                                            0.0  \n",
       "3                                            0.0  \n",
       "4                                            0.0  "
      ]
     },
     "execution_count": 10,
     "metadata": {},
     "output_type": "execute_result"
    }
   ],
   "source": [
    "X.head()"
   ]
  }
 ],
 "metadata": {
  "interpreter": {
   "hash": "a6a9f4043488ef9e53ad9534f22325a4d01a3da28a0b173aeeefb1e0f1cf25e7"
  },
  "kernelspec": {
   "display_name": "time_related_features",
   "language": "python",
   "name": "time_related_features"
  },
  "language_info": {
   "codemirror_mode": {
    "name": "ipython",
    "version": 3
   },
   "file_extension": ".py",
   "mimetype": "text/x-python",
   "name": "python",
   "nbconvert_exporter": "python",
   "pygments_lexer": "ipython3",
   "version": "3.8.9"
  }
 },
 "nbformat": 4,
 "nbformat_minor": 5
}
